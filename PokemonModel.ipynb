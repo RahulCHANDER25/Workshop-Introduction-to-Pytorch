{
  "cells": [
    {
      "cell_type": "markdown",
      "metadata": {
        "id": "gnkRjwkkNfkc"
      },
      "source": [
        "# Workshop AI - Introduction to Pytorch\n",
        "\n",
        "You are welcomed into my Introduction to Pytorch Workshop, I hope you will like it !\n"
      ]
    },
    {
      "cell_type": "markdown",
      "metadata": {
        "id": "p2yArnYpSmau"
      },
      "source": [
        "## What is Pytorch ?\n"
      ]
    },
    {
      "cell_type": "markdown",
      "metadata": {
        "id": "7x2HTtSYSrNa"
      },
      "source": [
        "Pytorch is a open source Machine Learning (ML) framework, built in Python and C++ but mostly used in Python.\n",
        "\n",
        "Using Pytorch enhance your Machine Learning journey !\n",
        "\n",
        "Most of the current machine learning models, like LLM or Computer Vision models !\n",
        "\n",
        "Learning Pytorch make you able to understand deeply of how an AI model works and it will surely be useful for the future !\n",
        "\n",
        "![Pytorch_Blank_Logo.png](data:image/png;base64,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)"
      ]
    },
    {
      "cell_type": "markdown",
      "metadata": {
        "id": "jrayyaRnUiV8"
      },
      "source": [
        "## Building a Pokemon Classifier Model"
      ]
    },
    {
      "cell_type": "markdown",
      "metadata": {
        "id": "XhqBSwWGUorX"
      },
      "source": [
        "During this workshop we are going to build a Pokemon classifier model, for example: You have a Pikachu Image you feed it to the model and it predicts you that it is Pikachu !\n",
        "\n",
        "Incredible right ? ✨\n",
        "\n",
        "To help you in this workshop, we will use a few framework, like [Hugging Face](https://huggingface.co/docs/datasets/index) and (surprisingly) [Pytorch](https://pytorch.org/docs/stable/index.html) !\n",
        "\n",
        "Take a look at these two documentation and be ready to look at it during this workshop !"
      ]
    },
    {
      "cell_type": "markdown",
      "metadata": {
        "id": "I7twLfmkNfke"
      },
      "source": [
        "## Installation"
      ]
    },
    {
      "cell_type": "markdown",
      "metadata": {
        "id": "JnBJZdEGS1V7"
      },
      "source": [
        "Before we start anything, let's install all the dependencies for this workshop:"
      ]
    },
    {
      "cell_type": "code",
      "execution_count": null,
      "metadata": {
        "colab": {
          "base_uri": "https://localhost:8080/"
        },
        "id": "bZpa-3CtNfke",
        "outputId": "14f3b632-4d94-48c3-c742-565f931d2c70"
      },
      "outputs": [],
      "source": [
        "# Execute this cell !\n",
        "\n",
        "## Installing pytorch\n",
        "%pip install torch==2.5.1+cu124 torchvision==0.20.1+cu124 --index-url https://download.pytorch.org/whl/cu124\n",
        "\n",
        "## Installing datasets package\n",
        "%pip install datasets\n",
        "\n",
        "## Installing Pillow to decode images\n",
        "%pip install Pillow\n",
        "\n",
        "## Installing tqdm to have a better output when doing a loop\n",
        "%pip install tqdm"
      ]
    },
    {
      "cell_type": "markdown",
      "metadata": {
        "id": "GF3MNV3CNfke"
      },
      "source": [
        "## Import & Constants needed"
      ]
    },
    {
      "cell_type": "markdown",
      "metadata": {
        "id": "Ke9TVMFdTCf9"
      },
      "source": [
        "The cell below correspond to all the constants we are going to use in this project !\n",
        "\n",
        "Some of them are going to be useful later, so you can take a look now, but don't take too much time, because you are going to come back later !"
      ]
    },
    {
      "cell_type": "code",
      "execution_count": null,
      "metadata": {
        "colab": {
          "base_uri": "https://localhost:8080/"
        },
        "id": "iY_1H94eNfkf",
        "outputId": "34c1287c-8ea0-4c36-ab30-22d9a1a70482"
      },
      "outputs": [],
      "source": [
        "import torch\n",
        "import torchvision\n",
        "import torchvision.transforms as transforms\n",
        "from torch.utils.data import DataLoader\n",
        "\n",
        "print(f\"Torch version: {torch.__version__}\")\n",
        "print(f\"Torchvision version: {torchvision.__version__}\")\n",
        "\n",
        "BATCH_SIZE = 32\n",
        "IMAGE_SIZE = 224 * 224 # Size of a Pokemon Image\n",
        "LR = 1e-3 # Learning Rate\n",
        "EPOCHS=100\n",
        "\n",
        "# All the pokemons/labels name at each index\n",
        "LABELS=['Porygon', 'Goldeen', 'Hitmonlee', 'Hitmonchan', 'Gloom', 'Aerodactyl', 'Mankey', 'Seadra', 'Gengar', 'Venonat', 'Articuno', 'Seaking', 'Dugtrio', 'Machop', 'Jynx', 'Oddish', 'Dodrio', 'Dragonair', 'Weedle', 'Golduck', 'Flareon', 'Krabby', 'Parasect', 'Ninetales', 'Nidoqueen', 'Kabutops', 'Drowzee', 'Caterpie', 'Jigglypuff', 'Machamp', 'Clefairy', 'Kangaskhan', 'Dragonite', 'Weepinbell', 'Fearow', 'Bellsprout', 'Grimer', 'Nidorina', 'Staryu', 'Horsea', 'Electabuzz', 'Dratini', 'Machoke', 'Magnemite', 'Squirtle', 'Gyarados', 'Pidgeot', 'Bulbasaur', 'Nidoking', 'Golem', 'Dewgong', 'Moltres', 'Zapdos', 'Poliwrath', 'Vulpix', 'Beedrill', 'Charmander', 'Abra', 'Zubat', 'Golbat', 'Wigglytuff', 'Charizard', 'Slowpoke', 'Poliwag', 'Tentacruel', 'Rhyhorn', 'Onix', 'Butterfree', 'Exeggcute', 'Sandslash', 'Pinsir', 'Rattata', 'Growlithe', 'Haunter', 'Pidgey', 'Ditto', 'Farfetchd', 'Pikachu', 'Raticate', 'Wartortle', 'Vaporeon', 'Cloyster', 'Hypno', 'Arbok', 'Metapod', 'Tangela', 'Kingler', 'Exeggutor', 'Kadabra', 'Seel', 'Voltorb', 'Chansey', 'Venomoth', 'Ponyta', 'Vileplume', 'Koffing', 'Blastoise', 'Tentacool', 'Lickitung', 'Paras', 'Clefable', 'Cubone', 'Marowak', 'Nidorino', 'Jolteon', 'Muk', 'Magikarp', 'Slowbro', 'Tauros', 'Kabuto', 'Spearow', 'Sandshrew', 'Eevee', 'Kakuna', 'Omastar', 'Ekans', 'Geodude', 'Magmar', 'Snorlax', 'Meowth', 'Pidgeotto', 'Venusaur', 'Persian', 'Rhydon', 'Starmie', 'Charmeleon', 'Lapras', 'Alakazam', 'Graveler', 'Psyduck', 'Rapidash', 'Doduo', 'Magneton', 'Arcanine', 'Electrode', 'Omanyte', 'Poliwhirl', 'Mew', 'Alolan Sandslash', 'Mewtwo', 'Weezing', 'Gastly', 'Victreebel', 'Ivysaur', 'MrMime', 'Shellder', 'Scyther', 'Diglett', 'Primeape', 'Raichu']\n",
        "NB_LABELS=len(LABELS) # Number of pokemons/labels\n",
        "print(f\"NB_LABELS: {NB_LABELS}\")\n",
        "\n",
        "# Enable GPU if you have one\n",
        "if torch.cuda.is_available():\n",
        "  device = torch.device('cuda')\n",
        "else:\n",
        "  device = torch.device('cpu')\n",
        "\n",
        "print(f\"Device: {device}\")"
      ]
    },
    {
      "cell_type": "markdown",
      "metadata": {
        "id": "JCbyEv2XX03X"
      },
      "source": [
        "## Introduction to Tensor"
      ]
    },
    {
      "cell_type": "markdown",
      "metadata": {
        "id": "Hjm47gmJX3N3"
      },
      "source": [
        "Before going any further let's take a look at a data structure that you will be using all along this workshop the `Tensor`.\n",
        "\n",
        "A Tensor is just a N-Dimensionnal array that have mathematical properties (like Matrix) and can be used efficiently by GPUs !\n",
        "\n",
        "You will have a few code cells below, it will be few little exercices to make you easily manipulate Tensors !"
      ]
    },
    {
      "cell_type": "markdown",
      "metadata": {
        "id": "99Idi9JmYelq"
      },
      "source": [
        "- Create a 2x2 Tensor with default values of `torch.ones`, and another 2x2 Tensor that will be created with `torch.arange` and add them together !"
      ]
    },
    {
      "cell_type": "code",
      "execution_count": null,
      "metadata": {
        "id": "-wC-AOBSX2uY"
      },
      "outputs": [],
      "source": [
        "## ~3 Lines"
      ]
    },
    {
      "cell_type": "markdown",
      "metadata": {
        "id": "FyWwLLf2Zvjg"
      },
      "source": [
        "<details>\n",
        "  <summary>Hint</summary>\n",
        "Create the tensor and try to use `torch.reshape` on them.\n",
        "</details>"
      ]
    },
    {
      "cell_type": "markdown",
      "metadata": {
        "id": "vrSWKJZ2Z_9a"
      },
      "source": [
        "- Create a 3x5 Matrix full of one and a 5x6 Matrix full of one too and do a matrix multiplication on them"
      ]
    },
    {
      "cell_type": "code",
      "execution_count": null,
      "metadata": {
        "id": "ioiccAKwaOox"
      },
      "outputs": [],
      "source": [
        "## ~3-4 Lines"
      ]
    },
    {
      "cell_type": "markdown",
      "metadata": {
        "id": "d1I22s4yaRYy"
      },
      "source": [
        "- Create randomly a 1-D Tensor and try to find the index of the maximum value"
      ]
    },
    {
      "cell_type": "code",
      "execution_count": null,
      "metadata": {
        "id": "5vErTpaOafeE"
      },
      "outputs": [],
      "source": [
        "## ~2 Lines"
      ]
    },
    {
      "cell_type": "markdown",
      "metadata": {
        "id": "P33kXwAdag7x"
      },
      "source": [
        "The last exercice is really useful because in our model, we will have output and we want to have the index of the maximum because it will correspond to the prediction of the model !"
      ]
    },
    {
      "cell_type": "markdown",
      "metadata": {
        "id": "Qk6AV1LSNfkf"
      },
      "source": [
        "## Data Preprocessing"
      ]
    },
    {
      "cell_type": "markdown",
      "metadata": {
        "id": "CcKD0yP_Wa1k"
      },
      "source": [
        "An important thing to do in Machine Learning, before trying to build any model, is to load and preprocess the datas we are going to use !\n",
        "\n",
        "To do this we will use simple Python and the [Hugging Face](https://huggingface.co/docs/datasets/index) framework !"
      ]
    },
    {
      "cell_type": "markdown",
      "metadata": {
        "id": "LiDcVnfENfkf"
      },
      "source": [
        "### Load datasets"
      ]
    },
    {
      "cell_type": "markdown",
      "metadata": {
        "id": "jvbXnR1RW2U8"
      },
      "source": [
        "Using the `load_dataset` function try to load this dataset: [keremberke/pokemon-classification](https://huggingface.co/datasets/keremberke/pokemon-classification?sql=--+The+SQL+console+is+powered+by+DuckDB+WASM+and+runs+entirely+in+the+browser.%0A--+Get+started+by+typing+a+query+or+selecting+a+view+from+the+options+below.%0ASELECT+*+FROM+full_train+LIMIT+10%3B) !"
      ]
    },
    {
      "cell_type": "code",
      "execution_count": null,
      "metadata": {
        "colab": {
          "base_uri": "https://localhost:8080/"
        },
        "id": "YsMmW0yoNfkg",
        "outputId": "41f4326f-4346-49f6-b133-629859b0733b"
      },
      "outputs": [],
      "source": [
        "## ~2-3 Lines"
      ]
    },
    {
      "cell_type": "markdown",
      "metadata": {
        "id": "O_OhB-a8XMDf"
      },
      "source": [
        "Before going any further create a Jupyter Notebook cell and try to manipulate this new dataset you have just loaded !\n",
        "\n",
        "The objective is to understand how Hugging Face data architecture works, feel free to look at the documentation !"
      ]
    },
    {
      "cell_type": "code",
      "execution_count": 1,
      "metadata": {
        "id": "79OzasK6XZis"
      },
      "outputs": [],
      "source": [
        "## Try to manipulate the dataset !"
      ]
    },
    {
      "cell_type": "markdown",
      "metadata": {
        "id": "2KhgwxjwNfkg"
      },
      "source": [
        "### Set format and transformation\n",
        "\n",
        "The dataset we have, we have to transform it to a form that our model can accept (aka Tensor).\n",
        "\n",
        "Using `torchvision` find a way to **transform** the image to a data structure named a `Tensor`.\n",
        "\n",
        "* Resize\n",
        "* Convert to RGB Value (Optionnal)\n",
        "* ToTensor\n",
        "* Normalize (Figure it out why)"
      ]
    },
    {
      "cell_type": "code",
      "execution_count": null,
      "metadata": {
        "colab": {
          "base_uri": "https://localhost:8080/"
        },
        "id": "qgA76mbVNfkh",
        "outputId": "a8ba3d64-e44a-4cdd-fdfa-d3b76f2d8757"
      },
      "outputs": [],
      "source": [
        "transform = transforms.Compose([\n",
        "    ...\n",
        "])\n",
        "\n",
        "transform"
      ]
    },
    {
      "cell_type": "markdown",
      "metadata": {
        "id": "VDztefbjbngu"
      },
      "source": [
        "Now try to set the format of the dataset to `torch` and set the transformation to the one you created before !"
      ]
    },
    {
      "cell_type": "code",
      "execution_count": null,
      "metadata": {
        "colab": {
          "base_uri": "https://localhost:8080/"
        },
        "id": "GdNMTM66Nfkh",
        "outputId": "6016c4c5-e98e-4878-eacd-48addb575cec"
      },
      "outputs": [],
      "source": [
        "## ~2-3 Lines"
      ]
    },
    {
      "cell_type": "markdown",
      "metadata": {
        "id": "vrvja98xNfki"
      },
      "source": [
        "### Datasets and Dataloader"
      ]
    },
    {
      "cell_type": "markdown",
      "metadata": {
        "id": "lp40GnP5T9ln"
      },
      "source": [
        "Okay, now you've completely transformed you dataset, into a Tensor one, but it is not finished...\n",
        "\n",
        "We will use Pytorch `Dataloader` which is a package that permits us to manipulate easily a dataset in Pytorch training loop.\n",
        "\n",
        "Complete this `HFDataset` class that inherits from `Dataset` torch class and thus make it able to be manipulated by `Dataloader`."
      ]
    },
    {
      "cell_type": "code",
      "execution_count": 8,
      "metadata": {
        "id": "1hGC2JlINfki"
      },
      "outputs": [],
      "source": [
        "from torch.utils.data import Dataset\n",
        "\n",
        "class HFDataset(Dataset):\n",
        "    def __init__(self, dset):\n",
        "        self.dset = dset\n",
        "\n",
        "    def __getitem__(self, idx):\n",
        "        ...\n",
        "\n",
        "    def __len__(self):\n",
        "        ..."
      ]
    },
    {
      "cell_type": "markdown",
      "metadata": {
        "id": "6an4WQusNfki"
      },
      "source": [
        "Load the dataset in a `DataLoader`, this will permit you to apply specific transformation to the dataset, as:\n",
        "\n",
        "* Adding a batch size\n",
        "* Shuffle the dataset\n",
        "\n",
        "__NOTE__: If you want this to be fast look at `num_worker` parameter in `DataLoader` function."
      ]
    },
    {
      "cell_type": "markdown",
      "metadata": {
        "id": "Xh5emT8zNfki"
      },
      "source": [
        "To iterate over a dataset for testing purposes you can use `next(iter(<your-dataset>))`, that will transform you dataset in iterator form and then iterate one time in it.\n",
        "\n",
        "Load a train, test and validation dataset !"
      ]
    },
    {
      "cell_type": "code",
      "execution_count": null,
      "metadata": {
        "colab": {
          "base_uri": "https://localhost:8080/"
        },
        "id": "hQsD4xD5Nfkj",
        "outputId": "0c92e045-261c-4d48-853c-cd211dfa5c29"
      },
      "outputs": [],
      "source": [
        "train_set = ...\n",
        "\n",
        "test_set = ...\n",
        "\n",
        "## Optionnal Validation dataset\n",
        "validation_set = ...\n",
        "\n",
        "..."
      ]
    },
    {
      "cell_type": "markdown",
      "metadata": {
        "id": "9_MsWYxANfkj"
      },
      "source": [
        "### Visualize the data"
      ]
    },
    {
      "cell_type": "markdown",
      "metadata": {
        "id": "MFnOLJkBceJp"
      },
      "source": [
        "It should be much more fun if you would be able to see the pokemons no ?\n",
        "\n",
        "Complete the `tensorToPIL` function and try to display the image of the pokemon !"
      ]
    },
    {
      "cell_type": "code",
      "execution_count": null,
      "metadata": {
        "colab": {
          "base_uri": "https://localhost:8080/",
          "height": 241
        },
        "id": "5fIMEttuNfkj",
        "outputId": "168101d0-3a71-420a-a910-a53d268b1b02"
      },
      "outputs": [],
      "source": [
        "## Observe the value inside this dictionnary\n",
        "def tensorToPIL(tensor: torch.Tensor):\n",
        "    return torchvision.transforms.functional.to_pil_image(tensor)\n",
        "\n",
        "tensorToPIL(next(iter(train_set))[\"image\"][0])"
      ]
    },
    {
      "cell_type": "markdown",
      "metadata": {
        "id": "RHEZXK-Ucr0x"
      },
      "source": [
        "**INCREDIBLE**"
      ]
    },
    {
      "cell_type": "markdown",
      "metadata": {
        "id": "zJvRRe_kNfkj"
      },
      "source": [
        "## Pokemon Model"
      ]
    },
    {
      "cell_type": "markdown",
      "metadata": {
        "id": "mq3DNGPRcvUM"
      },
      "source": [
        "Now start the real game.\n",
        "\n",
        "Your objective now is to create a `PokemonModel` and feed it the data you have processed !\n",
        "\n",
        "`PokemonModel` will contain the architecture of the model, feel free to look at how to do Pytorch Model !\n",
        "\n",
        "Be careful of few things:\n",
        "* The shape of the input\n",
        "* The **activation function**\n",
        "* The number of layers or neurons per layers (You will maybe have to test several architecture)\n",
        "\n",
        "__NOTE__: *I know Convolution exists but I want to show that we can still do without it, especially for those who are new to Pytorch !*\n",
        "\n",
        "**IMPORTANT**: If the results of training is not as impressive as expected it is normal, you have to try multiple architecture !"
      ]
    },
    {
      "cell_type": "code",
      "execution_count": 38,
      "metadata": {
        "id": "A4JiWHp2Nfkk"
      },
      "outputs": [],
      "source": [
        "from torch import nn\n",
        "\n",
        "class PokemonModel(nn.Module):\n",
        "    \"\"\"\n",
        "        Pokemon model class:\n",
        "        The objective of this class is to have a model that can predict the pokemon based on the input image\n",
        "    \"\"\"\n",
        "\n",
        "    def __init__(self, in_channels: int, out_labels: int): ## Hey, what's a channel ?!\n",
        "        super(PokemonModel, self).__init__()\n",
        "        ...\n",
        "\n",
        "\n",
        "    def forward(self, x: torch.Tensor):\n",
        "        ..."
      ]
    },
    {
      "cell_type": "markdown",
      "metadata": {
        "id": "4TFcWo4vNfkk"
      },
      "source": [
        "Now that our Model is ready, we can initialize it and initialize 2 other things:\n",
        "* The Loss Function\n",
        "* The Optimizer\n",
        "\n",
        "You're free to choose the optimizer you want but for the loss function try to use `CrossEntropyLoss`, which is better for classification."
      ]
    },
    {
      "cell_type": "code",
      "execution_count": null,
      "metadata": {
        "colab": {
          "base_uri": "https://localhost:8080/"
        },
        "id": "-U3_Xhn3Nfkk",
        "outputId": "91525a24-0515-445c-e7cf-13434c60e43a"
      },
      "outputs": [],
      "source": [
        "## ~3 lines\n",
        "## Load model, loss_function and optimizer"
      ]
    },
    {
      "cell_type": "markdown",
      "metadata": {
        "id": "brEqpEK2Nfkk"
      },
      "source": [
        "## Training"
      ]
    },
    {
      "cell_type": "markdown",
      "metadata": {
        "id": "Ro3A_JvxNfkk"
      },
      "source": [
        "Okay, let's train our poke... Euum, our model !\n",
        "\n",
        "You have below 2 functions:\n",
        "* `train`: The main training function that is used to train a model using a dataset\n",
        "* `train_epoch`: An Epoch is an iteration of a loop, each iteration `train` function must call this function and iterate over all the dataset\n",
        "\n",
        "Feel free to look at examples of training loop in the documentation !"
      ]
    },
    {
      "cell_type": "code",
      "execution_count": 40,
      "metadata": {
        "id": "4-O50STJNfkk"
      },
      "outputs": [],
      "source": [
        "from tqdm import tqdm # Hey, what's this ?!\n",
        "\n",
        "def train_epoch(model: nn.Module, loss_function: nn.CrossEntropyLoss, train_loader: DataLoader) -> float:\n",
        "    ..."
      ]
    },
    {
      "cell_type": "code",
      "execution_count": null,
      "metadata": {
        "colab": {
          "base_uri": "https://localhost:8080/",
          "height": 1000
        },
        "id": "-39z0wtRNfkl",
        "outputId": "4e9b849a-37a1-4219-fdd8-22647528d161"
      },
      "outputs": [],
      "source": [
        "def train(model: nn.Module, loss_function: nn.CrossEntropyLoss, train_loader: DataLoader) -> None:\n",
        "    ...\n"
      ]
    },
    {
      "cell_type": "markdown",
      "metadata": {
        "id": "EcaWsD4YNfkl"
      },
      "source": [
        "## Appreciate your results !"
      ]
    },
    {
      "cell_type": "markdown",
      "metadata": {
        "id": "1q9S9Cq5eiLE"
      },
      "source": [
        "Yeeaaahhh, Pokemon !\n",
        "\n",
        "Execute this cell below and look if your model is right, if it's not, go and train it again, and as a pokemon trainer this time 😎 !"
      ]
    },
    {
      "cell_type": "code",
      "execution_count": null,
      "metadata": {
        "colab": {
          "base_uri": "https://localhost:8080/",
          "height": 258
        },
        "id": "uPC-gj9hNfkl",
        "outputId": "a759f73b-bb8d-4fd8-9459-f7666da62eaf"
      },
      "outputs": [],
      "source": [
        "model.eval()\n",
        "\n",
        "data: torch.Tensor = next(iter(train_set))[\"image\"]\n",
        "out = model(data.to(torch.float32).to(device))\n",
        "\n",
        "print(LABELS[out[0].argmax()])\n",
        "tensorToPIL(data[0])"
      ]
    },
    {
      "cell_type": "markdown",
      "metadata": {
        "id": "vjXxljotNfkl"
      },
      "source": [
        "## Bonus: CNN Model"
      ]
    },
    {
      "cell_type": "markdown",
      "metadata": {
        "id": "vDGV6DI3e05C"
      },
      "source": [
        "Yes, I know that before I said that I will not talk about Convolutional Neural Network (CNN), but still if you have made it till here, it's because you're interested right ? 🥲\n",
        "\n",
        "Create a Convolutional Neural Network (CNN), that takes an image and predict which labels the image is !\n",
        "\n",
        "__NOTE__: This part is really complicated, feel free to ask me if you need help !"
      ]
    },
    {
      "cell_type": "code",
      "execution_count": 24,
      "metadata": {
        "id": "7svvJeC5Nfkl"
      },
      "outputs": [],
      "source": [
        "from torch import nn\n",
        "import torch.nn.functional as F\n",
        "\n",
        "class PokemonCNNModel(nn.Module):\n",
        "    \"\"\"\n",
        "        PokemonCNN model class:\n",
        "        The objective of this class is to have a model that can predict the pokemon based on the input image\n",
        "    \"\"\"\n",
        "\n",
        "    def __init__(self, in_channels: int, out_labels: int):\n",
        "        super(PokemonCNNModel, self).__init__()\n",
        "        ...\n",
        "\n",
        "    def forward(self, x):\n",
        "        ..."
      ]
    },
    {
      "cell_type": "code",
      "execution_count": null,
      "metadata": {
        "colab": {
          "base_uri": "https://localhost:8080/"
        },
        "id": "o0YSwQvFNfkm",
        "outputId": "6b6bdb04-ccf2-4b4d-88f6-dfc2c3d2c619"
      },
      "outputs": [],
      "source": [
        "## ~3 lines\n",
        "## Load CNN model, loss_function and optimizer"
      ]
    },
    {
      "cell_type": "code",
      "execution_count": null,
      "metadata": {
        "colab": {
          "base_uri": "https://localhost:8080/",
          "height": 790
        },
        "collapsed": true,
        "id": "hbvkS46uNfkm",
        "outputId": "d93ab6b8-f096-487f-baeb-22b24359daaf"
      },
      "outputs": [],
      "source": [
        "## ~1 line\n",
        "## Train the model"
      ]
    },
    {
      "cell_type": "code",
      "execution_count": null,
      "metadata": {
        "colab": {
          "base_uri": "https://localhost:8080/",
          "height": 258
        },
        "id": "kF2P3A9qNfkm",
        "outputId": "87069920-606a-4783-9f5f-3b9b954d1f3b"
      },
      "outputs": [],
      "source": [
        "## Appreciate the result !\n",
        "\n",
        "modelCNN.eval()\n",
        "\n",
        "data: torch.Tensor = next(iter(train_set))[\"image\"]\n",
        "out = modelCNN(data.to(torch.float32).to(device))\n",
        "\n",
        "print(LABELS[out[0].argmax()])\n",
        "tensorToPIL(data[0])"
      ]
    }
  ],
  "metadata": {
    "accelerator": "GPU",
    "colab": {
      "gpuType": "T4",
      "provenance": []
    },
    "kernelspec": {
      "display_name": "Python 3",
      "name": "python3"
    },
    "language_info": {
      "codemirror_mode": {
        "name": "ipython",
        "version": 3
      },
      "file_extension": ".py",
      "mimetype": "text/x-python",
      "name": "python",
      "nbconvert_exporter": "python",
      "pygments_lexer": "ipython3",
      "version": "3.11.3"
    }
  },
  "nbformat": 4,
  "nbformat_minor": 0
}
